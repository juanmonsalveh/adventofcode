{
 "cells": [
  {
   "cell_type": "code",
   "execution_count": 1,
   "metadata": {},
   "outputs": [
    {
     "name": "stdout",
     "output_type": "stream",
     "text": [
      "day 3\n"
     ]
    }
   ],
   "source": [
    "print('day 3')"
   ]
  },
  {
   "cell_type": "code",
   "execution_count": 118,
   "metadata": {},
   "outputs": [],
   "source": [
    "input_file = open('input','r')\n",
    "input_lines = input_file.readlines()"
   ]
  },
  {
   "cell_type": "code",
   "execution_count": 119,
   "metadata": {},
   "outputs": [
    {
     "name": "stdout",
     "output_type": "stream",
     "text": [
      "244\n"
     ]
    }
   ],
   "source": [
    "#part 1\n",
    "current_x, limit, trees = 0, 31, 0\n",
    "for line in input_lines:\n",
    "    div = current_x if current_x < limit else current_x % limit\n",
    "    if line[div] == '#': trees += 1    \n",
    "    current_x += 3\n",
    "print(trees)\n",
    "    "
   ]
  },
  {
   "cell_type": "code",
   "execution_count": 124,
   "metadata": {},
   "outputs": [],
   "source": [
    "#part 2\n",
    "slopes_list = [(1,1), (3,1), (5,1), (7,1), (1,2)]\n",
    "trees_list = [0, 0, 0, 0, 0]\n",
    "current_x_list = [0, 0, 0, 0, 0]\n",
    "current_y = 0"
   ]
  },
  {
   "cell_type": "code",
   "execution_count": 125,
   "metadata": {},
   "outputs": [
    {
     "name": "stdout",
     "output_type": "stream",
     "text": [
      "[90, 244, 97, 92, 48]\n"
     ]
    },
    {
     "data": {
      "text/plain": [
       "323"
      ]
     },
     "execution_count": 125,
     "metadata": {},
     "output_type": "execute_result"
    }
   ],
   "source": [
    "for line in input_lines:\n",
    "    for i in range(len(slopes_list)):\n",
    "        right, down = slopes_list[i]\n",
    "        \n",
    "        div = current_x_list[i] if current_x_list[i] < limit else current_x_list[i] % limit\n",
    "        if current_y % down == 0: \n",
    "            if line[div] == '#': trees_list[i] += 1      \n",
    "            current_x_list[i] += right\n",
    "            \n",
    "    current_y +=1    \n",
    "print(trees_list)\n",
    "len(input_lines)"
   ]
  },
  {
   "cell_type": "code",
   "execution_count": 116,
   "metadata": {},
   "outputs": [
    {
     "name": "stdout",
     "output_type": "stream",
     "text": [
      "9406609920\n",
      "9108298448\n"
     ]
    }
   ],
   "source": [
    "import numpy\n",
    "print (numpy.prod(trees_list))\n",
    "print (numpy.prod([90, 244, 97, 92, 48]))"
   ]
  },
  {
   "cell_type": "code",
   "execution_count": 48,
   "metadata": {},
   "outputs": [
    {
     "data": {
      "text/plain": [
       "7945536944"
      ]
     },
     "execution_count": 48,
     "metadata": {},
     "output_type": "execute_result"
    }
   ],
   "source": [
    "[89, 244, 97, 92, 48]"
   ]
  },
  {
   "cell_type": "code",
   "execution_count": null,
   "metadata": {},
   "outputs": [],
   "source": []
  }
 ],
 "metadata": {
  "kernelspec": {
   "display_name": "Python 3",
   "language": "python",
   "name": "python3"
  },
  "language_info": {
   "codemirror_mode": {
    "name": "ipython",
    "version": 3
   },
   "file_extension": ".py",
   "mimetype": "text/x-python",
   "name": "python",
   "nbconvert_exporter": "python",
   "pygments_lexer": "ipython3",
   "version": "3.7.6"
  }
 },
 "nbformat": 4,
 "nbformat_minor": 4
}
